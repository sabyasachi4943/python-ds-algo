{
 "cells": [
  {
   "cell_type": "markdown",
   "id": "e27ace97",
   "metadata": {},
   "source": [
    "## sum of n factorial numbers\n"
   ]
  },
  {
   "cell_type": "code",
   "execution_count": 5,
   "id": "d105f8c6",
   "metadata": {},
   "outputs": [],
   "source": [
    "def fact(n):\n",
    "    if n == 0:\n",
    "        return 1\n",
    "    smallOutput = fact(n - 1)\n",
    "    return n * smallOutput"
   ]
  },
  {
   "cell_type": "code",
   "execution_count": 6,
   "id": "2b74a67c",
   "metadata": {},
   "outputs": [],
   "source": [
    "def sum_n(n):\n",
    "    if n == 0:\n",
    "        return 0\n",
    "    smallOutput = sum_n(n - 1)\n",
    "    output = smallOutput + n\n",
    "    return output\n",
    "    "
   ]
  },
  {
   "cell_type": "code",
   "execution_count": 7,
   "id": "d9652d9f",
   "metadata": {},
   "outputs": [
    {
     "name": "stdout",
     "output_type": "stream",
     "text": [
      "4\n",
      "24\n",
      "10\n"
     ]
    }
   ],
   "source": [
    "n = int(input())\n",
    "print(fact(n))\n",
    "print(sum_n(n))"
   ]
  },
  {
   "cell_type": "code",
   "execution_count": null,
   "id": "37e8ce97",
   "metadata": {},
   "outputs": [],
   "source": []
  }
 ],
 "metadata": {
  "kernelspec": {
   "display_name": "Python 3 (ipykernel)",
   "language": "python",
   "name": "python3"
  },
  "language_info": {
   "codemirror_mode": {
    "name": "ipython",
    "version": 3
   },
   "file_extension": ".py",
   "mimetype": "text/x-python",
   "name": "python",
   "nbconvert_exporter": "python",
   "pygments_lexer": "ipython3",
   "version": "3.9.1"
  }
 },
 "nbformat": 4,
 "nbformat_minor": 5
}
